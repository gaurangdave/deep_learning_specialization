{
 "cells": [
  {
   "cell_type": "markdown",
   "id": "a0d70f92",
   "metadata": {},
   "source": [
    "# Introdution to TensorFlow\n",
    "* This notebook serves as a playground to get our hands dirty with TensorFlow and its API. "
   ]
  },
  {
   "cell_type": "markdown",
   "id": "9aa0642e",
   "metadata": {},
   "source": [
    "## Import Libraries"
   ]
  },
  {
   "cell_type": "code",
   "execution_count": 21,
   "id": "0a56a0be",
   "metadata": {},
   "outputs": [],
   "source": [
    "import pandas as pd\n",
    "import numpy as np\n",
    "\n",
    "# Make numpy values easier to read.\n",
    "np.set_printoptions(precision=3, suppress=True)\n",
    "\n",
    "import tensorflow as tf\n",
    "from tensorflow.keras import layers"
   ]
  },
  {
   "cell_type": "markdown",
   "id": "04a526cc",
   "metadata": {},
   "source": [
    "## Validate Installation"
   ]
  },
  {
   "cell_type": "code",
   "execution_count": 22,
   "id": "b777f229",
   "metadata": {},
   "outputs": [
    {
     "data": {
      "text/plain": [
       "'2.19.0'"
      ]
     },
     "execution_count": 22,
     "metadata": {},
     "output_type": "execute_result"
    }
   ],
   "source": [
    "## printing tf version\n",
    "tf.__version__"
   ]
  },
  {
   "cell_type": "code",
   "execution_count": 23,
   "id": "456f4647",
   "metadata": {},
   "outputs": [
    {
     "data": {
      "text/plain": [
       "[LogicalDevice(name='/device:CPU:0', device_type='CPU')]"
      ]
     },
     "execution_count": 23,
     "metadata": {},
     "output_type": "execute_result"
    }
   ],
   "source": [
    "## check for CPU devices\n",
    "cpu_devices = tf.config.list_logical_devices(device_type=\"CPU\")\n",
    "cpu_devices"
   ]
  },
  {
   "cell_type": "code",
   "execution_count": 24,
   "id": "94743987",
   "metadata": {},
   "outputs": [
    {
     "data": {
      "text/plain": [
       "[]"
      ]
     },
     "execution_count": 24,
     "metadata": {},
     "output_type": "execute_result"
    }
   ],
   "source": [
    "## check for GPU devices\n",
    "gpu_devices = tf.config.list_logical_devices(device_type=\"GPU\")\n",
    "gpu_devices"
   ]
  },
  {
   "cell_type": "markdown",
   "id": "8ba65854",
   "metadata": {},
   "source": [
    "## Hello World TF Edition"
   ]
  },
  {
   "cell_type": "code",
   "execution_count": 25,
   "id": "9753f539",
   "metadata": {},
   "outputs": [
    {
     "data": {
      "text/plain": [
       "tf.string"
      ]
     },
     "execution_count": 25,
     "metadata": {},
     "output_type": "execute_result"
    }
   ],
   "source": [
    "message = tf.constant(\"Hello World\")\n",
    "message.dtype\n"
   ]
  },
  {
   "cell_type": "code",
   "execution_count": 17,
   "id": "44aa6492",
   "metadata": {},
   "outputs": [
    {
     "name": "stdout",
     "output_type": "stream",
     "text": [
      "b'Hello World'\n"
     ]
    }
   ],
   "source": [
    "print(message.numpy())"
   ]
  },
  {
   "cell_type": "code",
   "execution_count": 19,
   "id": "4300579e",
   "metadata": {},
   "outputs": [
    {
     "data": {
      "text/plain": [
       "TensorShape([])"
      ]
     },
     "execution_count": 19,
     "metadata": {},
     "output_type": "execute_result"
    }
   ],
   "source": [
    "message.shape"
   ]
  },
  {
   "cell_type": "markdown",
   "id": "342934c2",
   "metadata": {},
   "source": [
    "## Tensors"
   ]
  },
  {
   "cell_type": "markdown",
   "id": "36e3292e",
   "metadata": {},
   "source": [
    "### Scalar (Rank 0)"
   ]
  },
  {
   "cell_type": "code",
   "execution_count": 48,
   "id": "14923ca1",
   "metadata": {},
   "outputs": [
    {
     "name": "stdout",
     "output_type": "stream",
     "text": [
      "()\n",
      "tf.Tensor([], shape=(0,), dtype=int32)\n",
      "<dtype: 'int32'>\n"
     ]
    }
   ],
   "source": [
    "# A single value with no axes\n",
    "val = tf.constant(4)\n",
    "# printing shape\n",
    "print(val.shape)\n",
    "print(tf.shape(val))\n",
    "# printing dtype\n",
    "print(val.dtype)"
   ]
  },
  {
   "cell_type": "markdown",
   "id": "3b495606",
   "metadata": {},
   "source": [
    "### Vector (Rank-1)"
   ]
  },
  {
   "cell_type": "code",
   "execution_count": 49,
   "id": "893b0ef3",
   "metadata": {},
   "outputs": [
    {
     "name": "stdout",
     "output_type": "stream",
     "text": [
      "tf.Tensor([1 2 3 4], shape=(4,), dtype=int32)\n",
      "(4,)\n",
      "tf.Tensor([4], shape=(1,), dtype=int32)\n",
      "<dtype: 'int32'>\n"
     ]
    }
   ],
   "source": [
    "vector = tf.constant([1,2,3,4])\n",
    "print(vector)\n",
    "print(vector.shape)\n",
    "print(tf.shape(vector))\n",
    "print(val.dtype)"
   ]
  },
  {
   "cell_type": "markdown",
   "id": "788ce6b6",
   "metadata": {},
   "source": [
    "### Matrix (Rank-2)"
   ]
  },
  {
   "cell_type": "code",
   "execution_count": 50,
   "id": "646b79d6",
   "metadata": {},
   "outputs": [
    {
     "name": "stdout",
     "output_type": "stream",
     "text": [
      "tf.Tensor(\n",
      "[[1 2 3]\n",
      " [3 4 5]], shape=(2, 3), dtype=int32)\n",
      "(2, 3)\n",
      "tf.Tensor([2 3], shape=(2,), dtype=int32)\n",
      "<dtype: 'int32'>\n"
     ]
    }
   ],
   "source": [
    "## here we are creating a 2x3 matrix\n",
    "matrix = tf.constant([[1,2,3],[3,4,5]])\n",
    "print(matrix)\n",
    "print(matrix.shape)\n",
    "print(tf.shape(matrix))\n",
    "print(val.dtype)"
   ]
  },
  {
   "cell_type": "code",
   "execution_count": 51,
   "id": "912387ef",
   "metadata": {},
   "outputs": [
    {
     "name": "stdout",
     "output_type": "stream",
     "text": [
      "tf.Tensor([[1 2 3]], shape=(1, 3), dtype=int32)\n",
      "(1, 3)\n",
      "tf.Tensor([1 3], shape=(2,), dtype=int32)\n"
     ]
    }
   ],
   "source": [
    "## here we are creating a 1x3 matrix\n",
    "matrix = tf.constant([[1,2,3]])\n",
    "print(matrix)\n",
    "print(matrix.shape)\n",
    "print(tf.shape(matrix))"
   ]
  },
  {
   "cell_type": "markdown",
   "id": "f4c33a80",
   "metadata": {},
   "source": [
    "### Higher Rank Tensors"
   ]
  },
  {
   "cell_type": "code",
   "execution_count": 52,
   "id": "a338e9ca",
   "metadata": {},
   "outputs": [
    {
     "name": "stdout",
     "output_type": "stream",
     "text": [
      "tf.Tensor(\n",
      "[[[1 2 3]\n",
      "  [3 5 5]]], shape=(1, 2, 3), dtype=int32)\n",
      "(1, 2, 3)\n",
      "tf.Tensor([1 2 3], shape=(3,), dtype=int32)\n"
     ]
    }
   ],
   "source": [
    "## here we are creating a 1x2x3 matrix\n",
    "data = tf.constant([[[1,2,3],[3,5,5]]])\n",
    "print(data)\n",
    "print(data.shape)\n",
    "print(tf.shape(data))"
   ]
  },
  {
   "cell_type": "code",
   "execution_count": 53,
   "id": "eac1167e",
   "metadata": {},
   "outputs": [
    {
     "name": "stdout",
     "output_type": "stream",
     "text": [
      "tf.Tensor(\n",
      "[[[ 1  2  3]\n",
      "  [ 3  5  5]]\n",
      "\n",
      " [[11 22 33]\n",
      "  [33 55 55]]], shape=(2, 2, 3), dtype=int32)\n",
      "(2, 2, 3)\n",
      "tf.Tensor([2 2 3], shape=(3,), dtype=int32)\n"
     ]
    }
   ],
   "source": [
    "## here we are creating a 2x2x3 matrix\n",
    "data = tf.constant([[[1,2,3],[3,5,5]],[[11,22,33],[33,55,55]]])\n",
    "print(data)\n",
    "print(data.shape)\n",
    "print(tf.shape(data))"
   ]
  },
  {
   "cell_type": "markdown",
   "id": "329f06d0",
   "metadata": {},
   "source": [
    "### Tensor Operations"
   ]
  },
  {
   "cell_type": "markdown",
   "id": "aa8eee9a",
   "metadata": {},
   "source": [
    "#### Rank of a Tensor"
   ]
  },
  {
   "cell_type": "code",
   "execution_count": 54,
   "id": "8b962984",
   "metadata": {},
   "outputs": [
    {
     "name": "stdout",
     "output_type": "stream",
     "text": [
      "(3, 3)\n",
      "tf.Tensor(2, shape=(), dtype=int32)\n"
     ]
    }
   ],
   "source": [
    "rank_mat = tf.constant([[1,2,3],[0,0,0],[0,0,0]])\n",
    "print(rank_mat.shape)\n",
    "## Note: This rank doesn't represent rank of the matrix but dimensions of the tensor i.e. number of axes\n",
    "## Since this is a 2 dimensional matrix rank is 2\n",
    "print(tf.rank(rank_mat))"
   ]
  },
  {
   "cell_type": "markdown",
   "id": "5acab0ac",
   "metadata": {},
   "source": [
    "#### Addition"
   ]
  },
  {
   "cell_type": "code",
   "execution_count": 55,
   "id": "232040bb",
   "metadata": {},
   "outputs": [
    {
     "name": "stdout",
     "output_type": "stream",
     "text": [
      "(2, 3)\n",
      "tf.Tensor(\n",
      "[[12 23 34]\n",
      " [45 56 67]], shape=(2, 3), dtype=int32)\n"
     ]
    }
   ],
   "source": [
    "## lets create 2 tensors of Rank 2 and add them\n",
    "tensor1 = tf.constant([[1,2,3],[4,5,6]])\n",
    "tensor2 = tf.constant([[11,21,31],[41,51,61]])\n",
    "\n",
    "tensor3 = tf.add(tensor1,tensor2)\n",
    "print(tensor3.shape)\n",
    "print(tensor3)"
   ]
  },
  {
   "cell_type": "code",
   "execution_count": 59,
   "id": "948ced6e",
   "metadata": {},
   "outputs": [
    {
     "name": "stdout",
     "output_type": "stream",
     "text": [
      "<dtype: 'float32'>\n",
      "<dtype: 'int32'>\n",
      "(2, 3)\n",
      "<dtype: 'float32'>\n",
      "tf.Tensor(\n",
      "[[12. 23. 34.]\n",
      " [45. 56. 67.]], shape=(2, 3), dtype=float32)\n"
     ]
    }
   ],
   "source": [
    "## can we add int and float in tf\n",
    "tensor1 = tf.constant([[1.0,2.0,3.0],[4.0,5.0,6.0]])\n",
    "tensor2 = tf.constant([[11,21,31],[41,51,61]])\n",
    "\n",
    "print(tensor1.dtype)\n",
    "print(tensor2.dtype)\n",
    "\n",
    "\"\"\"\n",
    "So it turns out we cannot add two different types of tensors, we need to cast before addition\n",
    "\"\"\"\n",
    "tensor3 = tf.add(tensor1,tf.cast(tensor2, dtype=tf.float32))\n",
    "print(tensor3.shape)\n",
    "print(tensor3.dtype)\n",
    "print(tensor3)"
   ]
  },
  {
   "cell_type": "code",
   "execution_count": null,
   "id": "33d12098",
   "metadata": {},
   "outputs": [
    {
     "name": "stdout",
     "output_type": "stream",
     "text": [
      "(2, 3)\n",
      "()\n",
      "(2, 3)\n",
      "<dtype: 'int32'>\n",
      "tf.Tensor(\n",
      "[[11 12 13]\n",
      " [14 15 16]], shape=(2, 3), dtype=int32)\n"
     ]
    }
   ],
   "source": [
    "## can we add scalar to higher ranked Tensor?\n",
    "tensor1 = tf.constant([[1,2,3],[4,5,6]])\n",
    "tensor2 = tf.constant(10)\n",
    "\n",
    "print(tensor1.shape)\n",
    "print(tensor2.shape)\n",
    "\n",
    "\"\"\"\n",
    "We can add a scalar to tensor, it simply broadcasts the value as long as the shapes are compatible\n",
    "\"\"\"\n",
    "tensor3 = tf.add(tensor1,tensor2)\n",
    "print(tensor3.shape)\n",
    "print(tensor3.dtype)\n",
    "print(tensor3)"
   ]
  },
  {
   "cell_type": "code",
   "execution_count": 72,
   "id": "5ee1fa14",
   "metadata": {},
   "outputs": [
    {
     "name": "stdout",
     "output_type": "stream",
     "text": [
      "(2, 3)\n",
      "(2, 1)\n",
      "(2, 3)\n",
      "<dtype: 'int32'>\n",
      "tf.Tensor(\n",
      "[[ 11  12  13]\n",
      " [104 105 106]], shape=(2, 3), dtype=int32)\n"
     ]
    }
   ],
   "source": [
    "## Lets check if it always broadcasts based on the shape\n",
    "tensor1 = tf.constant([[1,2,3],[4,5,6]])\n",
    "tensor2 = tf.constant([[10],[100]])\n",
    "\n",
    "print(tensor1.shape)\n",
    "print(tensor2.shape)\n",
    "\n",
    "\"\"\"\n",
    "It always broadcasts as long as the shape is compatible\n",
    "\"\"\"\n",
    "tensor3 = tf.add(tensor1,tensor2)\n",
    "print(tensor3.shape)\n",
    "print(tensor3.dtype)\n",
    "print(tensor3)"
   ]
  },
  {
   "cell_type": "markdown",
   "id": "70dd5051",
   "metadata": {},
   "source": [
    "#### Multiplication"
   ]
  },
  {
   "cell_type": "code",
   "execution_count": 73,
   "id": "12346555",
   "metadata": {},
   "outputs": [
    {
     "name": "stdout",
     "output_type": "stream",
     "text": [
      "(2, 3) <dtype: 'int32'>\n",
      "(2, 3) <dtype: 'int32'>\n",
      "(2, 3) <dtype: 'int32'>\n",
      "tf.Tensor(\n",
      "[[ 11  42  93]\n",
      " [164 255 366]], shape=(2, 3), dtype=int32)\n"
     ]
    }
   ],
   "source": [
    "## element wise multiplication\n",
    "tensor1 = tf.constant([[1,2,3],[4,5,6]])\n",
    "tensor2 = tf.constant([[11,21,31],[41,51,61]])\n",
    "\n",
    "print(tensor1.shape, tensor1.dtype)\n",
    "print(tensor2.shape, tensor2.dtype)\n",
    "\n",
    "tensor3 = tf.multiply(tensor1,tensor2)\n",
    "\n",
    "print(tensor3.shape, tensor3.dtype)\n",
    "print(tensor3)"
   ]
  },
  {
   "cell_type": "code",
   "execution_count": 74,
   "id": "e6dea646",
   "metadata": {},
   "outputs": [
    {
     "name": "stdout",
     "output_type": "stream",
     "text": [
      "(2, 3) <dtype: 'int32'>\n",
      "() <dtype: 'int32'>\n",
      "(2, 3) <dtype: 'int32'>\n",
      "tf.Tensor(\n",
      "[[10 20 30]\n",
      " [40 50 60]], shape=(2, 3), dtype=int32)\n"
     ]
    }
   ],
   "source": [
    "## tensor scalar multiplication\n",
    "tensor1 = tf.constant([[1,2,3],[4,5,6]])\n",
    "tensor2 = tf.constant(10)\n",
    "\n",
    "print(tensor1.shape, tensor1.dtype)\n",
    "print(tensor2.shape, tensor2.dtype)\n",
    "\n",
    "tensor3 = tf.multiply(tensor1,tensor2)\n",
    "\n",
    "print(tensor3.shape, tensor3.dtype)\n",
    "print(tensor3)"
   ]
  },
  {
   "cell_type": "code",
   "execution_count": 80,
   "id": "74cd46ea",
   "metadata": {},
   "outputs": [
    {
     "name": "stdout",
     "output_type": "stream",
     "text": [
      "(2, 3) <dtype: 'int32'>\n",
      "(3, 2) <dtype: 'int32'>\n",
      "(2, 2) <dtype: 'int32'>\n",
      "tf.Tensor(\n",
      "[[123 153]\n",
      " [309 399]], shape=(2, 2), dtype=int32)\n",
      "(2, 2) <dtype: 'int32'>\n",
      "tf.Tensor(\n",
      "[[123 153]\n",
      " [309 399]], shape=(2, 2), dtype=int32)\n"
     ]
    }
   ],
   "source": [
    "## matrix multiplication\n",
    "tensor1 = tf.constant([[1,2,3],[4,5,6]])\n",
    "tensor2 = tf.constant([[11,21],[41,51],[10,10]])\n",
    "\n",
    "print(tensor1.shape, tensor1.dtype)\n",
    "print(tensor2.shape, tensor2.dtype)\n",
    "\n",
    "## the shapes of the tensors should match for matrix multiplication\n",
    "tensor3 = tf.matmul(tensor1,tensor2)\n",
    "\n",
    "print(tensor3.shape, tensor3.dtype)\n",
    "print(tensor3)\n",
    "\n",
    "## another way to perform matrix multiplication\n",
    "tensor4 = tensor1  @ tensor2\n",
    "print(tensor4.shape, tensor4.dtype)\n",
    "print(tensor4)\n"
   ]
  },
  {
   "cell_type": "markdown",
   "id": "1fd58c5a",
   "metadata": {},
   "source": [
    "#### Slicing & Indexing"
   ]
  },
  {
   "cell_type": "code",
   "execution_count": 94,
   "id": "7ccb9fe6",
   "metadata": {},
   "outputs": [
    {
     "name": "stdout",
     "output_type": "stream",
     "text": [
      "(3, 3)\n",
      "tf.Tensor([1 2 3], shape=(3,), dtype=int32)\n",
      "tf.Tensor(1, shape=(), dtype=int32)\n",
      "tf.Tensor([1 2], shape=(2,), dtype=int32)\n",
      "tf.Tensor(\n",
      "[[1 2]\n",
      " [4 5]], shape=(2, 2), dtype=int32)\n",
      "tf.Tensor([1 4 7], shape=(3,), dtype=int32)\n",
      "tf.Tensor([3 6 9], shape=(3,), dtype=int32)\n"
     ]
    }
   ],
   "source": [
    "tensor1 = tf.constant([[1,2,3],[4,5,6],[7,8,9]])\n",
    "\n",
    "print(tensor1.shape)\n",
    "\n",
    "# all elements of the first row\n",
    "print(tensor1[0,:])\n",
    "\n",
    "# first row first column\n",
    "print(tensor1[0,0])\n",
    "\n",
    "# first row first 2 column\n",
    "print(tensor1[0,0:2])\n",
    "\n",
    "# first 2 rows first 2 columns\n",
    "print(tensor1[0:2,0:2])\n",
    "\n",
    "# all elements of first column\n",
    "print(tensor1[:,0])\n",
    "\n",
    "# all elements of last column\n",
    "print(tensor1[:,-1])"
   ]
  },
  {
   "cell_type": "markdown",
   "id": "ba344d03",
   "metadata": {},
   "source": [
    "#### Reshaping\n"
   ]
  },
  {
   "cell_type": "code",
   "execution_count": 98,
   "id": "0579cc51",
   "metadata": {},
   "outputs": [
    {
     "name": "stdout",
     "output_type": "stream",
     "text": [
      "(3, 3)\n",
      "(1, 9)\n",
      "(9, 1)\n"
     ]
    }
   ],
   "source": [
    "tensor1 = tf.constant([[1,2,3],[4,5,6],[7,8,9]])\n",
    "\n",
    "print(tensor1.shape)\n",
    "\n",
    "## reshape into row vector\n",
    "reshaped_row_vec = tf.reshape(tensor1,(1,-1))\n",
    "print(reshaped_row_vec.shape)\n",
    "\n",
    "## reshape into column vector\n",
    "reshaped_col_vec = tf.reshape(tensor1,(-1,1))\n",
    "print(reshaped_col_vec.shape)"
   ]
  },
  {
   "cell_type": "markdown",
   "id": "ed577dfa",
   "metadata": {},
   "source": [
    "#### Transpose"
   ]
  },
  {
   "cell_type": "code",
   "execution_count": 100,
   "id": "1c51d2ae",
   "metadata": {},
   "outputs": [
    {
     "name": "stdout",
     "output_type": "stream",
     "text": [
      "(2, 3)\n",
      "(3, 2)\n",
      "tf.Tensor(\n",
      "[[1 4]\n",
      " [2 5]\n",
      " [3 6]], shape=(3, 2), dtype=int32)\n"
     ]
    }
   ],
   "source": [
    "tensor1 = tf.constant([[1,2,3],[4,5,6]])\n",
    "print(tensor1.shape)\n",
    "\n",
    "tensor2 = tf.transpose(tensor1)\n",
    "print(tensor2.shape)\n",
    "print(tensor2)"
   ]
  },
  {
   "cell_type": "markdown",
   "id": "84c06b12",
   "metadata": {},
   "source": [
    "#### Converting to and from Tensors"
   ]
  },
  {
   "cell_type": "code",
   "execution_count": 112,
   "id": "3d9e4008",
   "metadata": {},
   "outputs": [
    {
     "name": "stdout",
     "output_type": "stream",
     "text": [
      "(3, 3)\n",
      "<class 'numpy.ndarray'>\n",
      "[[0.173 0.754 0.098]\n",
      " [0.486 0.948 0.827]\n",
      " [0.884 0.719 0.745]]\n",
      "(3, 3)\n",
      "<class 'tensorflow.python.framework.ops.EagerTensor'>\n",
      "tf.Tensor(\n",
      "[[0.173 0.754 0.098]\n",
      " [0.486 0.948 0.827]\n",
      " [0.884 0.719 0.745]], shape=(3, 3), dtype=float64)\n"
     ]
    }
   ],
   "source": [
    "np_array = np.random.rand(3,3)\n",
    "print(np_array.shape)\n",
    "print(type(np_array))\n",
    "print(np_array)\n",
    "\n",
    "tensor1 = tf.convert_to_tensor(np_array)\n",
    "print(tensor1.shape)\n",
    "print(type(tensor1))\n",
    "print(tensor1)"
   ]
  },
  {
   "cell_type": "markdown",
   "id": "372ac1f9",
   "metadata": {},
   "source": [
    "#### Ragged Tensors - TBD\n",
    "#### String Tensors - TBD\n",
    "#### Sparse Tensors - TBD"
   ]
  },
  {
   "cell_type": "markdown",
   "id": "66c4351c",
   "metadata": {},
   "source": [
    "## Variables"
   ]
  },
  {
   "cell_type": "code",
   "execution_count": 115,
   "id": "7aad0745",
   "metadata": {},
   "outputs": [
    {
     "name": "stdout",
     "output_type": "stream",
     "text": [
      "(3,)\n",
      "<class 'tensorflow.python.ops.resource_variable_ops.ResourceVariable'>\n"
     ]
    }
   ],
   "source": [
    "var1 = tf.Variable([1,2,3])\n",
    "print(var1.shape)\n",
    "print(type(var1))"
   ]
  },
  {
   "cell_type": "code",
   "execution_count": 117,
   "id": "d169d3e2",
   "metadata": {},
   "outputs": [
    {
     "data": {
      "text/plain": [
       "<tf.Variable 'UnreadVariable' shape=(3,) dtype=int32, numpy=array([10, 20, 30], dtype=int32)>"
      ]
     },
     "execution_count": 117,
     "metadata": {},
     "output_type": "execute_result"
    }
   ],
   "source": [
    "var1 = tf.Variable([1,2,3])\n",
    "\n",
    "var1.assign([10,20,30])\n",
    "# print(var1.shape)\n",
    "# print(type(var1))"
   ]
  },
  {
   "cell_type": "markdown",
   "id": "21342350",
   "metadata": {},
   "source": [
    "Interesting to note the TF has `UnreadVariable` in type if we don't read the variable after assigning. "
   ]
  },
  {
   "cell_type": "code",
   "execution_count": 121,
   "id": "65a0baa7",
   "metadata": {},
   "outputs": [
    {
     "name": "stdout",
     "output_type": "stream",
     "text": [
      "(3,)\n",
      "<class 'tensorflow.python.ops.resource_variable_ops.ResourceVariable'>\n",
      "tf.Tensor([11 12 13], shape=(3,), dtype=int32)\n"
     ]
    }
   ],
   "source": [
    "var1 = tf.Variable([1,2,3])\n",
    "\n",
    "## adding values to variables\n",
    "var1.assign_add([10,10,10])\n",
    "print(var1.shape)\n",
    "print(type(var1))\n",
    "print(var1.read_value())"
   ]
  },
  {
   "cell_type": "code",
   "execution_count": 122,
   "id": "1d1a4d8d",
   "metadata": {},
   "outputs": [
    {
     "name": "stdout",
     "output_type": "stream",
     "text": [
      "tf.Tensor([11 22 33], shape=(3,), dtype=int32)\n"
     ]
    }
   ],
   "source": [
    "## adding two variables\n",
    "var1 = tf.Variable([1,2,3])\n",
    "var2 = tf.Variable([10,20,30])\n",
    "\n",
    "var3 = var1 + var2\n",
    "print(var3)"
   ]
  },
  {
   "cell_type": "code",
   "execution_count": 123,
   "id": "0b61f54e",
   "metadata": {},
   "outputs": [
    {
     "name": "stdout",
     "output_type": "stream",
     "text": [
      "tf.Tensor([10 40 90], shape=(3,), dtype=int32)\n"
     ]
    }
   ],
   "source": [
    "## multiplying two variables\n",
    "var1 = tf.Variable([1,2,3])\n",
    "var2 = tf.Variable([10,20,30])\n",
    "\n",
    "var3 = var1 * var2\n",
    "print(var3)"
   ]
  },
  {
   "cell_type": "code",
   "execution_count": 128,
   "id": "066a27df",
   "metadata": {},
   "outputs": [
    {
     "name": "stdout",
     "output_type": "stream",
     "text": [
      "(3, 3)\n",
      "tf.Tensor([1 2 3], shape=(3,), dtype=int32)\n",
      "tf.Tensor(\n",
      "[[1 2 3]\n",
      " [4 5 6]], shape=(2, 3), dtype=int32)\n",
      "tf.Tensor([1 4 7], shape=(3,), dtype=int32)\n"
     ]
    }
   ],
   "source": [
    "## Indexting and slicing\n",
    "var1 = tf.Variable([[1,2,3],[4,5,6],[7,8,9]])\n",
    "print(var1.shape)\n",
    "\n",
    "# print first row\n",
    "print(var1[0,:])\n",
    "\n",
    "# first two rows\n",
    "print(var1[0:2,:])\n",
    "\n",
    "# first column\n",
    "print(var1[:,0])"
   ]
  },
  {
   "cell_type": "markdown",
   "id": "10177d4e",
   "metadata": {},
   "source": [
    "## Automatic Differentiation"
   ]
  },
  {
   "cell_type": "markdown",
   "id": "55cc0752",
   "metadata": {},
   "source": [
    "* Here we are defining the function $f(x)$ as follows\n",
    "$$\n",
    "f(x) = x^2 + 2x - 5\n",
    "$$\n",
    "* The derivative of this function would be\n",
    "$$\n",
    "{d \\over dx}f(x) = 2x + 2\n",
    "$$\n",
    "* So for x = 1,\n",
    "$$\n",
    "f(x) = f(1) = -2\\\\\n",
    "{d \\over dx}f(x) = 2x + 2 = 4\n",
    "$$"
   ]
  },
  {
   "cell_type": "code",
   "execution_count": null,
   "id": "b7e6f3e6",
   "metadata": {},
   "outputs": [
    {
     "name": "stdout",
     "output_type": "stream",
     "text": [
      "tf.Tensor(4.0, shape=(), dtype=float32)\n"
     ]
    }
   ],
   "source": [
    "x = tf.Variable(1.0)\n",
    "\n",
    "\n",
    "def f(x):\n",
    "    return x**2 + 2*x - 5\n",
    "\n",
    "## compute gradient of f w.r.t x\n",
    "with tf.GradientTape() as tape:\n",
    "    y = f(x)\n",
    "\n",
    "g_x = tape.gradient(y,x)\n",
    "print(g_x)"
   ]
  },
  {
   "cell_type": "markdown",
   "id": "48de724b",
   "metadata": {},
   "source": [
    "## Graph Execution"
   ]
  },
  {
   "cell_type": "code",
   "execution_count": 134,
   "id": "2d286028",
   "metadata": {},
   "outputs": [
    {
     "name": "stdout",
     "output_type": "stream",
     "text": [
      "tf.Tensor(6, shape=(), dtype=int32)\n"
     ]
    }
   ],
   "source": [
    "## this decorator optimizes the function by compiling python function into optimized computation graph\n",
    "@tf.function\n",
    "def my_func(x):\n",
    "  return tf.reduce_sum(x)\n",
    "\n",
    "x = tf.constant([1, 2, 3])\n",
    "print(my_func(x))"
   ]
  },
  {
   "cell_type": "markdown",
   "id": "3e3333bb",
   "metadata": {},
   "source": [
    "## Building Models"
   ]
  },
  {
   "cell_type": "markdown",
   "id": "bfe5a830",
   "metadata": {},
   "source": [
    "* Creating a simple TF Model using the below quadratic example\n",
    "$$\n",
    "J(w) = w^2 -10w + 25 = (w - 5)^2\n",
    "$$\n",
    "* We know that the above equation is minimum at $w = 5$.\n",
    "* Lets build a TF model that finds this minimum. \n",
    "    * What that means is we'll start with a random point, find the slope of this function at that point (i.e gradient) and nudge the point in the opposite direction of the slope. \n",
    "    * We'll repeate this till fix number of iterations and see if we found the minimum.\n"
   ]
  },
  {
   "cell_type": "code",
   "execution_count": null,
   "id": "2fd80fee",
   "metadata": {},
   "outputs": [],
   "source": [
    "# lets define the random point w\n",
    "# this will be a tf.Variable cause we'll keep chaning the value in each iteration.\n",
    "w = tf.Variable(initial_value=0.0, dtype=tf.float32)\n",
    "\n",
    "# lets define the cost function, in our case its the above function\n",
    "def compute_cost():\n",
    "    cost = w**2 - 10*w + 25\n",
    "    return cost\n",
    "\n",
    "\n",
    "# lets define the optimizer algorithm and set it to Adam\n",
    "# optimizers help speed up the training by smoothning the gradient descent path.\n",
    "optimizer = tf.keras.optimizers.Adam(learning_rate=0.1)\n",
    "# lets create a training step\n",
    "\n",
    "\n",
    "def training_step():\n",
    "    # step 1: compute the cost - kind of like at the end of forward prop\n",
    "    \"\"\"\n",
    "    The tf.GradientTape context manager is crucial. \n",
    "    It \"records\" operations involving tf.Variables performed within its block (like the calculation of cost which depends on w). \n",
    "    \"\"\"\n",
    "    with tf.GradientTape() as tape:\n",
    "        cost = compute_cost()\n",
    "\n",
    "    # training variables, i.e variables that the network learns to reduce the cost\n",
    "    training_variables = [w]\n",
    "    # Step 2 calculate the gradient - kind of like back prop\n",
    "    grads = tape.gradient(cost, training_variables)\n",
    "    # step 2.1 update the variables by subtracting the gradients\n",
    "    optimizer.apply_gradients(zip(grads,training_variables))\n",
    "     "
   ]
  },
  {
   "cell_type": "code",
   "execution_count": 148,
   "id": "b3452e2b",
   "metadata": {},
   "outputs": [
    {
     "name": "stdout",
     "output_type": "stream",
     "text": [
      "0.09999931\n",
      "0.19994053\n",
      "0.2997846\n",
      "0.39948922\n",
      "0.49901304\n",
      "0.59831345\n",
      "0.69734603\n",
      "0.79606664\n",
      "0.89443004\n",
      "0.99239093\n"
     ]
    }
   ],
   "source": [
    "# lets train 10 times and see how the variable changes\n",
    "for i in range(10):\n",
    "    training_step()\n",
    "    print(w.numpy())"
   ]
  },
  {
   "cell_type": "markdown",
   "id": "080b595c",
   "metadata": {},
   "source": [
    "* So we are slowly going towards 5, lets run it 1000 times"
   ]
  },
  {
   "cell_type": "code",
   "execution_count": 150,
   "id": "20a4a7ce",
   "metadata": {},
   "outputs": [
    {
     "name": "stdout",
     "output_type": "stream",
     "text": [
      "5.0000005\n"
     ]
    }
   ],
   "source": [
    "# lets train 10 times and see how the variable changes\n",
    "for i in range(1000):\n",
    "    training_step()\n",
    "print(w.numpy())"
   ]
  },
  {
   "cell_type": "code",
   "execution_count": null,
   "id": "5aa3ed32",
   "metadata": {},
   "outputs": [],
   "source": []
  }
 ],
 "metadata": {
  "kernelspec": {
   "display_name": "venv",
   "language": "python",
   "name": "python3"
  },
  "language_info": {
   "codemirror_mode": {
    "name": "ipython",
    "version": 3
   },
   "file_extension": ".py",
   "mimetype": "text/x-python",
   "name": "python",
   "nbconvert_exporter": "python",
   "pygments_lexer": "ipython3",
   "version": "3.12.9"
  }
 },
 "nbformat": 4,
 "nbformat_minor": 5
}
